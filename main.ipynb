{
 "cells": [
  {
   "cell_type": "code",
   "execution_count": 1,
   "metadata": {},
   "outputs": [],
   "source": [
    "from test_case_agent import testcase_agent\n",
    "from optimization_agent import optimization_suggestor_agent"
   ]
  },
  {
   "cell_type": "markdown",
   "metadata": {},
   "source": [
    "## Input"
   ]
  },
  {
   "cell_type": "code",
   "execution_count": 3,
   "metadata": {},
   "outputs": [],
   "source": [
    "code = \"\"\"def calculate_factorials_up_to_number(n):\n",
    "    if n < 0:\n",
    "        raise ValueError(\"Input must be a non-negative integer.\")\n",
    "\n",
    "    factorials = [1]  # Initialize with the factorial of 0\n",
    "\n",
    "    factorial = 1\n",
    "    for i in range(1, n + 1):\n",
    "        factorial *= i\n",
    "        factorials.append(factorial)\n",
    "\n",
    "    return factorials\"\"\""
   ]
  },
  {
   "cell_type": "markdown",
   "metadata": {},
   "source": [
    "## Initialize Testcase Agent"
   ]
  },
  {
   "cell_type": "code",
   "execution_count": null,
   "metadata": {},
   "outputs": [],
   "source": []
  },
  {
   "cell_type": "code",
   "execution_count": 6,
   "metadata": {},
   "outputs": [],
   "source": [
    "agent = testcase_agent(code = code,\n",
    "                    #    test_case_list =[\"calculate_factorials_up_to_number(100000)\"]\n",
    "                       )"
   ]
  },
  {
   "cell_type": "code",
   "execution_count": 7,
   "metadata": {},
   "outputs": [
    {
     "name": "stdout",
     "output_type": "stream",
     "text": [
      "-----test case generation---\n",
      "Worst case\n",
      "```python\n",
      "calculate_factorials_up_to_number(1000)\n",
      "```\n",
      "\n",
      "Medium case\n",
      "```python\n",
      "calculate_factorials_up_to_number(10)\n",
      "```\n",
      "\n",
      "Best case\n",
      "```python\n",
      "calculate_factorials_up_to_number(0)\n",
      "```\n",
      "\n",
      "\n",
      "-----test case extraction---\n",
      "calculate_factorials_up_to_number(1000)\n",
      "--------\n",
      "calculate_factorials_up_to_number(10)\n",
      "--------\n",
      "calculate_factorials_up_to_number(0)\n",
      "--------\n",
      "None\n",
      "\n",
      "\n",
      "-----test case merger---\n",
      "import time\n",
      "import sys\n",
      "import os\n",
      "import psutil\n",
      "\n",
      "def memory_usage_psutil():\n",
      "    # return the memory usage in MB\n",
      "    process = psutil.Process(os.getpid())\n",
      "    mem_info = process.memory_info()\n",
      "    return mem_info.rss\n",
      "\n",
      "def test_case():\n",
      "    start_time = time.time()\n",
      "    start_memory = memory_usage_psutil()\n",
      "\n",
      "    # Call the function here\n",
      "    calculate_factorials_up_to_number(1000)\n",
      "    \n",
      "    end_time = time.time()\n",
      "    end_memory = memory_usage_psutil()\n",
      "\n",
      "    print(f\"Time taken: {end_time - start_time} seconds\")\n",
      "    print(f\"Memory used: {end_memory - start_memory} B\")\n",
      "\n",
      "def calculate_factorials_up_to_number(n):\n",
      "    if n < 0:\n",
      "        raise ValueError(\"Input must be a non-negative integer.\")\n",
      "\n",
      "    factorials = [1]  # Initialize with the factorial of 0\n",
      "\n",
      "    factorial = 1\n",
      "    for i in range(1, n + 1):\n",
      "        factorial *= i\n",
      "        factorials.append(factorial)\n",
      "\n",
      "    return factorials\n",
      "test_case()\n",
      "import time\n",
      "import sys\n",
      "import os\n",
      "import psutil\n",
      "\n",
      "def memory_usage_psutil():\n",
      "    # return the memory usage in MB\n",
      "    process = psutil.Process(os.getpid())\n",
      "    mem_info = process.memory_info()\n",
      "    return mem_info.rss\n",
      "\n",
      "def test_case():\n",
      "    start_time = time.time()\n",
      "    start_memory = memory_usage_psutil()\n",
      "\n",
      "    # Call the function here\n",
      "    calculate_factorials_up_to_number(10)\n",
      "    \n",
      "    end_time = time.time()\n",
      "    end_memory = memory_usage_psutil()\n",
      "\n",
      "    print(f\"Time taken: {end_time - start_time} seconds\")\n",
      "    print(f\"Memory used: {end_memory - start_memory} B\")\n",
      "\n",
      "def calculate_factorials_up_to_number(n):\n",
      "    if n < 0:\n",
      "        raise ValueError(\"Input must be a non-negative integer.\")\n",
      "\n",
      "    factorials = [1]  # Initialize with the factorial of 0\n",
      "\n",
      "    factorial = 1\n",
      "    for i in range(1, n + 1):\n",
      "        factorial *= i\n",
      "        factorials.append(factorial)\n",
      "\n",
      "    return factorials\n",
      "test_case()\n",
      "import time\n",
      "import sys\n",
      "import os\n",
      "import psutil\n",
      "\n",
      "def memory_usage_psutil():\n",
      "    # return the memory usage in MB\n",
      "    process = psutil.Process(os.getpid())\n",
      "    mem_info = process.memory_info()\n",
      "    return mem_info.rss\n",
      "\n",
      "def test_case():\n",
      "    start_time = time.time()\n",
      "    start_memory = memory_usage_psutil()\n",
      "\n",
      "    # Call the function here\n",
      "    calculate_factorials_up_to_number(0)\n",
      "    \n",
      "    end_time = time.time()\n",
      "    end_memory = memory_usage_psutil()\n",
      "\n",
      "    print(f\"Time taken: {end_time - start_time} seconds\")\n",
      "    print(f\"Memory used: {end_memory - start_memory} B\")\n",
      "\n",
      "def calculate_factorials_up_to_number(n):\n",
      "    if n < 0:\n",
      "        raise ValueError(\"Input must be a non-negative integer.\")\n",
      "\n",
      "    factorials = [1]  # Initialize with the factorial of 0\n",
      "\n",
      "    factorial = 1\n",
      "    for i in range(1, n + 1):\n",
      "        factorial *= i\n",
      "        factorials.append(factorial)\n",
      "\n",
      "    return factorials\n",
      "test_case()\n",
      "\n",
      "\n",
      "-----test case execution---\n",
      "['Time taken: 0.0006377696990966797 seconds\\nMemory used: 524288 B\\n', 'Time taken: 0.0001780986785888672 seconds\\nMemory used: 0 B\\n', 'Time taken: 0.00022411346435546875 seconds\\nMemory used: 0 B\\n']\n",
      "\n",
      "\n",
      "-----test case response extraction---\n",
      "{'Time taken': 0.0006377696990966797, 'Memory used': 524288.0}\n",
      "{'Time taken': 0.0001780986785888672, 'Memory used': 0.0}\n",
      "{'Time taken': 0.00022411346435546875, 'Memory used': 0.0}\n"
     ]
    }
   ],
   "source": [
    "vas = agent.run_flow()"
   ]
  },
  {
   "cell_type": "markdown",
   "metadata": {},
   "source": [
    "------"
   ]
  },
  {
   "cell_type": "markdown",
   "metadata": {},
   "source": [
    "## Optimize Code"
   ]
  },
  {
   "cell_type": "code",
   "execution_count": 8,
   "metadata": {},
   "outputs": [],
   "source": [
    "op_agent = optimization_suggestor_agent(code= code,\n",
    "                                        execution_obj= vas)"
   ]
  },
  {
   "cell_type": "code",
   "execution_count": 11,
   "metadata": {},
   "outputs": [
    {
     "name": "stdout",
     "output_type": "stream",
     "text": [
      "----raw optimizations----\n"
     ]
    },
    {
     "ename": "TypeError",
     "evalue": "'NoneType' object is not iterable",
     "output_type": "error",
     "traceback": [
      "\u001b[0;31m---------------------------------------------------------------------------\u001b[0m",
      "\u001b[0;31mTypeError\u001b[0m                                 Traceback (most recent call last)",
      "\u001b[1;32m/home/sharoz/Documents/CodeOptimizeAgent/main.ipynb Cell 11\u001b[0m line \u001b[0;36m1\n\u001b[0;32m----> <a href='vscode-notebook-cell:/home/sharoz/Documents/CodeOptimizeAgent/main.ipynb#X56sZmlsZQ%3D%3D?line=0'>1</a>\u001b[0m op_agent\u001b[39m.\u001b[39;49mrun_flow()\n",
      "File \u001b[0;32m~/Documents/CodeOptimizeAgent/optimization_agent.py:104\u001b[0m, in \u001b[0;36moptimization_suggestor_agent.run_flow\u001b[0;34m(self)\u001b[0m\n\u001b[1;32m    101\u001b[0m \u001b[39mdef\u001b[39;00m \u001b[39mrun_flow\u001b[39m(\u001b[39mself\u001b[39m) \u001b[39m-\u001b[39m\u001b[39m>\u001b[39m \u001b[39mstr\u001b[39m:\n\u001b[1;32m    103\u001b[0m     \u001b[39mprint\u001b[39m(\u001b[39m\"\u001b[39m\u001b[39m----raw optimizations----\u001b[39m\u001b[39m\"\u001b[39m)\n\u001b[0;32m--> 104\u001b[0m     resp \u001b[39m=\u001b[39m \u001b[39mself\u001b[39;49m\u001b[39m.\u001b[39;49mraw_optimizations()\n\u001b[1;32m    105\u001b[0m     \u001b[39mprint\u001b[39m(resp)\n\u001b[1;32m    106\u001b[0m     \u001b[39mprint\u001b[39m(\u001b[39m\"\u001b[39m\u001b[39m\\n\u001b[39;00m\u001b[39m\"\u001b[39m)\n",
      "File \u001b[0;32m~/Documents/CodeOptimizeAgent/optimization_agent.py:21\u001b[0m, in \u001b[0;36moptimization_suggestor_agent.raw_optimizations\u001b[0;34m(self)\u001b[0m\n\u001b[1;32m     18\u001b[0m exec_str \u001b[39m=\u001b[39m \u001b[39mf\u001b[39m\u001b[39m\"\u001b[39m\u001b[39m```python\u001b[39m\u001b[39m\\n\u001b[39;00m\u001b[39m{\u001b[39;00m\u001b[39mself\u001b[39m\u001b[39m.\u001b[39mcode\u001b[39m}\u001b[39;00m\u001b[39m\\n\u001b[39;00m\u001b[39m```\u001b[39m\u001b[39m\\n\u001b[39;00m\u001b[39m\"\u001b[39m\n\u001b[1;32m     19\u001b[0m case_list \u001b[39m=\u001b[39m [\u001b[39m\"\u001b[39m\u001b[39mWorst Case\u001b[39m\u001b[39m\"\u001b[39m, \u001b[39m\"\u001b[39m\u001b[39mMedium Case\u001b[39m\u001b[39m\"\u001b[39m, \u001b[39m\"\u001b[39m\u001b[39mBest Case\u001b[39m\u001b[39m\"\u001b[39m]\n\u001b[0;32m---> 21\u001b[0m \u001b[39mfor\u001b[39;00m idx, exec_obj \u001b[39min\u001b[39;00m \u001b[39menumerate\u001b[39;49m(\u001b[39mself\u001b[39;49m\u001b[39m.\u001b[39;49mexecution_obj):\n\u001b[1;32m     22\u001b[0m     exec_str \u001b[39m+\u001b[39m\u001b[39m=\u001b[39m \u001b[39mf\u001b[39m\u001b[39m\"\u001b[39m\u001b[39m{\u001b[39;00mcase_list[idx]\u001b[39m}\u001b[39;00m\u001b[39m;\u001b[39m\u001b[39m\\n\u001b[39;00m\u001b[39mTime taken: \u001b[39m\u001b[39m{\u001b[39;00mexec_obj[\u001b[39m'\u001b[39m\u001b[39mTime taken\u001b[39m\u001b[39m'\u001b[39m]\u001b[39m}\u001b[39;00m\u001b[39m\\n\u001b[39;00m\u001b[39mMemory used: \u001b[39m\u001b[39m{\u001b[39;00mexec_obj[\u001b[39m'\u001b[39m\u001b[39mMemory used\u001b[39m\u001b[39m'\u001b[39m]\u001b[39m}\u001b[39;00m\u001b[39m\\n\u001b[39;00m\u001b[39m\\n\u001b[39;00m\u001b[39m\"\u001b[39m\n\u001b[1;32m     23\u001b[0m exec_str \u001b[39m+\u001b[39m\u001b[39m=\u001b[39m \u001b[39m\"\u001b[39m\u001b[39mCritically analyze the code and suggest built-in improvements such as list comprehensions and lambda expressions. No need for updated code.\u001b[39m\u001b[39m\"\u001b[39m\n",
      "\u001b[0;31mTypeError\u001b[0m: 'NoneType' object is not iterable"
     ]
    }
   ],
   "source": [
    "op_agent.run_flow()"
   ]
  },
  {
   "cell_type": "code",
   "execution_count": 12,
   "metadata": {},
   "outputs": [
    {
     "data": {
      "text/plain": [
       "'1. Use List Comprehension: The code can be optimized by using list comprehension to generate the factorials in a more concise and efficient manner. Instead of using a for loop and appending to the \"factorials\" list, we can calculate each factorial directly using a list comprehension.\\n\\n2. Remove Redundant Assignment: The variable \"factorial\" is initialized to 1 and then immediately multiplied by \"i\". We can remove the separate initialization step and simply start the loop at 2 instead of 1.\\n\\n3. Error Handling: The code currently assumes that the input \"n\" is a non-negative integer. It may be a good idea to include error handling and validation to ensure that the input meets the required conditions.\\n\\n4. Return as Generator: Instead of returning a complete list of factorials, returning a generator using yield can save memory. A generator allows values to be generated on the fly instead of storing them all in memory at once.\\n\\nWith these optimizations, the code can be made more efficient and concise.'"
      ]
     },
     "execution_count": 12,
     "metadata": {},
     "output_type": "execute_result"
    }
   ],
   "source": [
    "op_agent.raw_optimizations()"
   ]
  },
  {
   "cell_type": "code",
   "execution_count": 13,
   "metadata": {},
   "outputs": [],
   "source": [
    "response = op_agent.optimizer()"
   ]
  },
  {
   "cell_type": "code",
   "execution_count": 14,
   "metadata": {},
   "outputs": [
    {
     "name": "stdout",
     "output_type": "stream",
     "text": [
      "```python\n",
      "def calculate_factorials_up_to_number(n):\n",
      "    if not isinstance(n, int) or n < 0:\n",
      "        raise ValueError(\"Input must be a non-negative integer.\")\n",
      "\n",
      "    return (factorial := 1, yield factorial)[0] if n == 0 else (factorial := 1, yield factorial)[0] and (factorial := factorial * i for i in range(2, n + 1))\n",
      "```\n"
     ]
    }
   ],
   "source": [
    "print(response)"
   ]
  },
  {
   "cell_type": "code",
   "execution_count": 15,
   "metadata": {},
   "outputs": [
    {
     "name": "stdout",
     "output_type": "stream",
     "text": [
      "def calculate_factorials_up_to_number(n):\n",
      "    if not isinstance(n, int) or n < 0:\n",
      "        raise ValueError(\"Input must be a non-negative integer.\")\n",
      "\n",
      "    return (factorial := 1, yield factorial)[0] if n == 0 else (factorial := 1, yield factorial)[0] and (factorial := factorial * i for i in range(2, n + 1))\n",
      "--------\n"
     ]
    }
   ],
   "source": [
    "extracted_blocks = op_agent.extract_code()"
   ]
  },
  {
   "cell_type": "code",
   "execution_count": 16,
   "metadata": {},
   "outputs": [
    {
     "name": "stdout",
     "output_type": "stream",
     "text": [
      "def calculate_factorials_up_to_number(n):\n",
      "    if not isinstance(n, int) or n < 0:\n",
      "        raise ValueError(\"Input must be a non-negative integer.\")\n",
      "\n",
      "    return (factorial := 1, yield factorial)[0] if n == 0 else (factorial := 1, yield factorial)[0] and (factorial := factorial * i for i in range(2, n + 1))\n"
     ]
    }
   ],
   "source": [
    "print(extracted_blocks)"
   ]
  },
  {
   "cell_type": "markdown",
   "metadata": {},
   "source": [
    "------------------"
   ]
  },
  {
   "cell_type": "code",
   "execution_count": 23,
   "metadata": {},
   "outputs": [],
   "source": [
    "extracted_blocks = \"\"\"def calculate_factorials_up_to_number(n):\n",
    "    if not isinstance(n, int) or n < 0:\n",
    "        raise ValueError(\"Input must be a non-negative integer.\")\n",
    "\n",
    "    factorials = {}\n",
    "\n",
    "    def factorial(k):\n",
    "        if k in factorials:\n",
    "            return factorials[k]\n",
    "        elif k == 0:\n",
    "            return 1\n",
    "        else:\n",
    "            result = k * factorial(k - 1)\n",
    "            factorials[k] = result\n",
    "            return result\n",
    "\n",
    "    return [factorial(i) for i in range(n + 1)]\"\"\""
   ]
  },
  {
   "cell_type": "markdown",
   "metadata": {},
   "source": [
    "## Optimized Code Testcases"
   ]
  },
  {
   "cell_type": "code",
   "execution_count": 24,
   "metadata": {},
   "outputs": [],
   "source": [
    "op_code_test = testcase_agent(\n",
    "    code = extracted_blocks)"
   ]
  },
  {
   "cell_type": "code",
   "execution_count": 25,
   "metadata": {},
   "outputs": [
    {
     "name": "stdout",
     "output_type": "stream",
     "text": [
      "calculate_factorials_up_to_number(1000)\n",
      "--------\n",
      "calculate_factorials_up_to_number(10)\n",
      "--------\n",
      "calculate_factorials_up_to_number(0)\n",
      "--------\n"
     ]
    }
   ],
   "source": [
    "op_code_test.gen_test_case()\n",
    "op_code_test.extract_test_cases()\n",
    "op_code_test.join_test_case()\n",
    "op_code_test.run_test_case()\n",
    "vas = op_code_test.extract_info_tg()"
   ]
  },
  {
   "cell_type": "code",
   "execution_count": 26,
   "metadata": {},
   "outputs": [
    {
     "name": "stdout",
     "output_type": "stream",
     "text": [
      "[{'Time taken': 0.0008258819580078125, 'Memory used': 655360.0}, {'Time taken': 0.00017380714416503906, 'Memory used': 0.0}, {'Time taken': 0.00018930435180664062, 'Memory used': 0.0}]\n"
     ]
    }
   ],
   "source": [
    "print(vas)"
   ]
  },
  {
   "cell_type": "code",
   "execution_count": null,
   "metadata": {},
   "outputs": [],
   "source": []
  },
  {
   "cell_type": "markdown",
   "metadata": {},
   "source": [
    "----"
   ]
  },
  {
   "cell_type": "markdown",
   "metadata": {},
   "source": [
    "## Profiler"
   ]
  },
  {
   "cell_type": "code",
   "execution_count": 1,
   "metadata": {},
   "outputs": [],
   "source": [
    "from profiler_agent import profiler"
   ]
  },
  {
   "cell_type": "code",
   "execution_count": 11,
   "metadata": {},
   "outputs": [],
   "source": [
    "code = \"\"\"def do_stuff(numbers):\n",
    "    s = sum(numbers)\n",
    "    prod = 1\n",
    "    for n in numbers:\n",
    "        prod *= n\n",
    "    return s, prod\"\"\"\n",
    "testcase = \"do_stuff([1, 2, 3, 4, 50000000000000000000000])\""
   ]
  },
  {
   "cell_type": "code",
   "execution_count": 12,
   "metadata": {},
   "outputs": [],
   "source": [
    "p_agent = profiler(\n",
    "    code= code,\n",
    "    testcase= testcase\n",
    "                   )"
   ]
  },
  {
   "cell_type": "code",
   "execution_count": 13,
   "metadata": {},
   "outputs": [
    {
     "name": "stdout",
     "output_type": "stream",
     "text": [
      "command ran\n"
     ]
    }
   ],
   "source": [
    "p_agent.initialize_profiler()"
   ]
  },
  {
   "cell_type": "code",
   "execution_count": 14,
   "metadata": {},
   "outputs": [
    {
     "name": "stdout",
     "output_type": "stream",
     "text": [
      "dict_keys(['s = sum(numbers)', 'prod = 1', 'for n in numbers:', 'prod *= n', 'return s, prod'])\n",
      "def do_stuff(numbers):\n",
      "    s = sum(numbers) #percent_time: 76.6%\n",
      "    prod = 1 #percent_time: 1.7%\n",
      "    for n in numbers: #percent_time: 9.9%\n",
      "        prod *= n #percent_time: 9.8%\n",
      "    return s, prod #percent_time: 2.1%\n"
     ]
    }
   ],
   "source": [
    "vas = p_agent.mutate_code()"
   ]
  },
  {
   "cell_type": "code",
   "execution_count": 15,
   "metadata": {},
   "outputs": [
    {
     "name": "stdout",
     "output_type": "stream",
     "text": [
      "def do_stuff(numbers):\n",
      "    s = sum(numbers) #percent_time: 76.6%\n",
      "    prod = 1 #percent_time: 1.7%\n",
      "    for n in numbers: #percent_time: 9.9%\n",
      "        prod *= n #percent_time: 9.8%\n",
      "    return s, prod #percent_time: 2.1%\n"
     ]
    }
   ],
   "source": [
    "print(vas)"
   ]
  },
  {
   "cell_type": "markdown",
   "metadata": {},
   "source": [
    "---------"
   ]
  },
  {
   "cell_type": "code",
   "execution_count": null,
   "metadata": {},
   "outputs": [],
   "source": []
  }
 ],
 "metadata": {
  "kernelspec": {
   "display_name": "Python 3",
   "language": "python",
   "name": "python3"
  },
  "language_info": {
   "codemirror_mode": {
    "name": "ipython",
    "version": 3
   },
   "file_extension": ".py",
   "mimetype": "text/x-python",
   "name": "python",
   "nbconvert_exporter": "python",
   "pygments_lexer": "ipython3",
   "version": "3.9.12"
  }
 },
 "nbformat": 4,
 "nbformat_minor": 2
}
