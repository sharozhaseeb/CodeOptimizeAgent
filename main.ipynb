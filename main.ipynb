{
 "cells": [
  {
   "cell_type": "code",
   "execution_count": 1,
   "metadata": {},
   "outputs": [],
   "source": [
    "from test_case_agent import testcase_agent\n",
    "from optimization_agent import optimization_suggestor_agent"
   ]
  },
  {
   "cell_type": "markdown",
   "metadata": {},
   "source": [
    "## Input"
   ]
  },
  {
   "cell_type": "code",
   "execution_count": 2,
   "metadata": {},
   "outputs": [],
   "source": [
    "code = \"\"\"def calculate_factorials_up_to_number(n):\n",
    "    if n < 0:\n",
    "        raise ValueError(\"Input must be a non-negative integer.\")\n",
    "\n",
    "    factorials = [1]  # Initialize with the factorial of 0\n",
    "\n",
    "    factorial = 1\n",
    "    for i in range(1, n + 1):\n",
    "        factorial *= i\n",
    "        factorials.append(factorial)\n",
    "\n",
    "    return factorials\"\"\""
   ]
  },
  {
   "cell_type": "markdown",
   "metadata": {},
   "source": [
    "## Initialize Testcase Agent"
   ]
  },
  {
   "cell_type": "code",
   "execution_count": 3,
   "metadata": {},
   "outputs": [],
   "source": [
    "agent = testcase_agent(code = code,\n",
    "                    #    test_case_list =[\"calculate_factorials_up_to_number(100000)\"]\n",
    "                       )"
   ]
  },
  {
   "cell_type": "code",
   "execution_count": 4,
   "metadata": {},
   "outputs": [
    {
     "data": {
      "text/plain": [
       "'Worst case\\n```python\\ncalculate_factorials_up_to_number(1000)\\n```\\n\\nMedium case\\n```python\\ncalculate_factorials_up_to_number(10)\\n```\\n\\nBest case\\n```python\\ncalculate_factorials_up_to_number(0)\\n```'"
      ]
     },
     "execution_count": 4,
     "metadata": {},
     "output_type": "execute_result"
    }
   ],
   "source": [
    "agent.gen_test_case()"
   ]
  },
  {
   "cell_type": "code",
   "execution_count": 5,
   "metadata": {},
   "outputs": [
    {
     "name": "stdout",
     "output_type": "stream",
     "text": [
      "calculate_factorials_up_to_number(1000)\n",
      "--------\n",
      "calculate_factorials_up_to_number(10)\n",
      "--------\n",
      "calculate_factorials_up_to_number(0)\n",
      "--------\n"
     ]
    }
   ],
   "source": [
    "agent.extract_test_cases()"
   ]
  },
  {
   "cell_type": "code",
   "execution_count": 6,
   "metadata": {},
   "outputs": [
    {
     "data": {
      "text/plain": [
       "['import time\\nimport sys\\nimport os\\nimport psutil\\n\\ndef memory_usage_psutil():\\n    # return the memory usage in MB\\n    process = psutil.Process(os.getpid())\\n    mem_info = process.memory_info()\\n    return mem_info.rss\\n\\ndef test_case():\\n    start_time = time.time()\\n    start_memory = memory_usage_psutil()\\n\\n    # Call the function here\\n    calculate_factorials_up_to_number(1000)\\n    \\n    end_time = time.time()\\n    end_memory = memory_usage_psutil()\\n\\n    print(f\"Time taken: {end_time - start_time} seconds\")\\n    print(f\"Memory used: {end_memory - start_memory} B\")\\n\\ndef calculate_factorials_up_to_number(n):\\n    if n < 0:\\n        raise ValueError(\"Input must be a non-negative integer.\")\\n\\n    factorials = [1]  # Initialize with the factorial of 0\\n\\n    factorial = 1\\n    for i in range(1, n + 1):\\n        factorial *= i\\n        factorials.append(factorial)\\n\\n    return factorials\\ntest_case()',\n",
       " 'import time\\nimport sys\\nimport os\\nimport psutil\\n\\ndef memory_usage_psutil():\\n    # return the memory usage in MB\\n    process = psutil.Process(os.getpid())\\n    mem_info = process.memory_info()\\n    return mem_info.rss\\n\\ndef test_case():\\n    start_time = time.time()\\n    start_memory = memory_usage_psutil()\\n\\n    # Call the function here\\n    calculate_factorials_up_to_number(10)\\n    \\n    end_time = time.time()\\n    end_memory = memory_usage_psutil()\\n\\n    print(f\"Time taken: {end_time - start_time} seconds\")\\n    print(f\"Memory used: {end_memory - start_memory} B\")\\n\\ndef calculate_factorials_up_to_number(n):\\n    if n < 0:\\n        raise ValueError(\"Input must be a non-negative integer.\")\\n\\n    factorials = [1]  # Initialize with the factorial of 0\\n\\n    factorial = 1\\n    for i in range(1, n + 1):\\n        factorial *= i\\n        factorials.append(factorial)\\n\\n    return factorials\\ntest_case()',\n",
       " 'import time\\nimport sys\\nimport os\\nimport psutil\\n\\ndef memory_usage_psutil():\\n    # return the memory usage in MB\\n    process = psutil.Process(os.getpid())\\n    mem_info = process.memory_info()\\n    return mem_info.rss\\n\\ndef test_case():\\n    start_time = time.time()\\n    start_memory = memory_usage_psutil()\\n\\n    # Call the function here\\n    calculate_factorials_up_to_number(0)\\n    \\n    end_time = time.time()\\n    end_memory = memory_usage_psutil()\\n\\n    print(f\"Time taken: {end_time - start_time} seconds\")\\n    print(f\"Memory used: {end_memory - start_memory} B\")\\n\\ndef calculate_factorials_up_to_number(n):\\n    if n < 0:\\n        raise ValueError(\"Input must be a non-negative integer.\")\\n\\n    factorials = [1]  # Initialize with the factorial of 0\\n\\n    factorial = 1\\n    for i in range(1, n + 1):\\n        factorial *= i\\n        factorials.append(factorial)\\n\\n    return factorials\\ntest_case()']"
      ]
     },
     "execution_count": 6,
     "metadata": {},
     "output_type": "execute_result"
    }
   ],
   "source": [
    "agent.join_test_case()"
   ]
  },
  {
   "cell_type": "code",
   "execution_count": 7,
   "metadata": {},
   "outputs": [
    {
     "data": {
      "text/plain": [
       "['Time taken: 0.0006549358367919922 seconds\\nMemory used: 524288 B\\n',\n",
       " 'Time taken: 0.0001819133758544922 seconds\\nMemory used: 0 B\\n',\n",
       " 'Time taken: 0.00013327598571777344 seconds\\nMemory used: 0 B\\n']"
      ]
     },
     "execution_count": 7,
     "metadata": {},
     "output_type": "execute_result"
    }
   ],
   "source": [
    "agent.run_test_case()"
   ]
  },
  {
   "cell_type": "code",
   "execution_count": 8,
   "metadata": {},
   "outputs": [],
   "source": [
    "vas = agent.extract_info_tg()"
   ]
  },
  {
   "cell_type": "code",
   "execution_count": 9,
   "metadata": {},
   "outputs": [
    {
     "name": "stdout",
     "output_type": "stream",
     "text": [
      "[{'Time taken': 0.0006549358367919922, 'Memory used': 524288.0}, {'Time taken': 0.0001819133758544922, 'Memory used': 0.0}, {'Time taken': 0.00013327598571777344, 'Memory used': 0.0}]\n"
     ]
    }
   ],
   "source": [
    "print(vas)"
   ]
  },
  {
   "cell_type": "code",
   "execution_count": 10,
   "metadata": {},
   "outputs": [
    {
     "name": "stdout",
     "output_type": "stream",
     "text": [
      "{'Time taken': 0.0006549358367919922, 'Memory used': 524288.0}\n",
      "{'Time taken': 0.0001819133758544922, 'Memory used': 0.0}\n",
      "{'Time taken': 0.00013327598571777344, 'Memory used': 0.0}\n"
     ]
    }
   ],
   "source": [
    "print(*vas, sep = \"\\n\")"
   ]
  },
  {
   "cell_type": "markdown",
   "metadata": {},
   "source": [
    "------"
   ]
  },
  {
   "cell_type": "markdown",
   "metadata": {},
   "source": [
    "## Optimize Code"
   ]
  },
  {
   "cell_type": "code",
   "execution_count": 11,
   "metadata": {},
   "outputs": [],
   "source": [
    "op_agent = optimization_suggestor_agent(code= code,\n",
    "                                        execution_obj= vas)"
   ]
  },
  {
   "cell_type": "code",
   "execution_count": 12,
   "metadata": {},
   "outputs": [
    {
     "data": {
      "text/plain": [
       "'1. Use List Comprehension: The code can be optimized by using list comprehension to generate the factorials in a more concise and efficient manner. Instead of using a for loop and appending to the \"factorials\" list, we can calculate each factorial directly using a list comprehension.\\n\\n2. Remove Redundant Assignment: The variable \"factorial\" is initialized to 1 and then immediately multiplied by \"i\". We can remove the separate initialization step and simply start the loop at 2 instead of 1.\\n\\n3. Error Handling: The code currently assumes that the input \"n\" is a non-negative integer. It may be a good idea to include error handling and validation to ensure that the input meets the required conditions.\\n\\n4. Return as Generator: Instead of returning a complete list of factorials, returning a generator using yield can save memory. A generator allows values to be generated on the fly instead of storing them all in memory at once.\\n\\nWith these optimizations, the code can be made more efficient and concise.'"
      ]
     },
     "execution_count": 12,
     "metadata": {},
     "output_type": "execute_result"
    }
   ],
   "source": [
    "op_agent.raw_optimizations()"
   ]
  },
  {
   "cell_type": "code",
   "execution_count": 13,
   "metadata": {},
   "outputs": [],
   "source": [
    "response = op_agent.optimizer()"
   ]
  },
  {
   "cell_type": "code",
   "execution_count": 14,
   "metadata": {},
   "outputs": [
    {
     "name": "stdout",
     "output_type": "stream",
     "text": [
      "```python\n",
      "def calculate_factorials_up_to_number(n):\n",
      "    if not isinstance(n, int) or n < 0:\n",
      "        raise ValueError(\"Input must be a non-negative integer.\")\n",
      "\n",
      "    return (factorial := 1, yield factorial)[0] if n == 0 else (factorial := 1, yield factorial)[0] and (factorial := factorial * i for i in range(2, n + 1))\n",
      "```\n"
     ]
    }
   ],
   "source": [
    "print(response)"
   ]
  },
  {
   "cell_type": "code",
   "execution_count": 15,
   "metadata": {},
   "outputs": [
    {
     "name": "stdout",
     "output_type": "stream",
     "text": [
      "def calculate_factorials_up_to_number(n):\n",
      "    if not isinstance(n, int) or n < 0:\n",
      "        raise ValueError(\"Input must be a non-negative integer.\")\n",
      "\n",
      "    return (factorial := 1, yield factorial)[0] if n == 0 else (factorial := 1, yield factorial)[0] and (factorial := factorial * i for i in range(2, n + 1))\n",
      "--------\n"
     ]
    }
   ],
   "source": [
    "extracted_blocks = op_agent.extract_code()"
   ]
  },
  {
   "cell_type": "code",
   "execution_count": 16,
   "metadata": {},
   "outputs": [
    {
     "name": "stdout",
     "output_type": "stream",
     "text": [
      "def calculate_factorials_up_to_number(n):\n",
      "    if not isinstance(n, int) or n < 0:\n",
      "        raise ValueError(\"Input must be a non-negative integer.\")\n",
      "\n",
      "    return (factorial := 1, yield factorial)[0] if n == 0 else (factorial := 1, yield factorial)[0] and (factorial := factorial * i for i in range(2, n + 1))\n"
     ]
    }
   ],
   "source": [
    "print(extracted_blocks)"
   ]
  },
  {
   "cell_type": "markdown",
   "metadata": {},
   "source": [
    "------------------"
   ]
  },
  {
   "cell_type": "code",
   "execution_count": 23,
   "metadata": {},
   "outputs": [],
   "source": [
    "extracted_blocks = \"\"\"def calculate_factorials_up_to_number(n):\n",
    "    if not isinstance(n, int) or n < 0:\n",
    "        raise ValueError(\"Input must be a non-negative integer.\")\n",
    "\n",
    "    factorials = {}\n",
    "\n",
    "    def factorial(k):\n",
    "        if k in factorials:\n",
    "            return factorials[k]\n",
    "        elif k == 0:\n",
    "            return 1\n",
    "        else:\n",
    "            result = k * factorial(k - 1)\n",
    "            factorials[k] = result\n",
    "            return result\n",
    "\n",
    "    return [factorial(i) for i in range(n + 1)]\"\"\""
   ]
  },
  {
   "cell_type": "markdown",
   "metadata": {},
   "source": [
    "## Optimized Code Testcases"
   ]
  },
  {
   "cell_type": "code",
   "execution_count": 24,
   "metadata": {},
   "outputs": [],
   "source": [
    "op_code_test = testcase_agent(\n",
    "    code = extracted_blocks)"
   ]
  },
  {
   "cell_type": "code",
   "execution_count": 25,
   "metadata": {},
   "outputs": [
    {
     "name": "stdout",
     "output_type": "stream",
     "text": [
      "calculate_factorials_up_to_number(1000)\n",
      "--------\n",
      "calculate_factorials_up_to_number(10)\n",
      "--------\n",
      "calculate_factorials_up_to_number(0)\n",
      "--------\n"
     ]
    }
   ],
   "source": [
    "op_code_test.gen_test_case()\n",
    "op_code_test.extract_test_cases()\n",
    "op_code_test.join_test_case()\n",
    "op_code_test.run_test_case()\n",
    "vas = op_code_test.extract_info_tg()"
   ]
  },
  {
   "cell_type": "code",
   "execution_count": 26,
   "metadata": {},
   "outputs": [
    {
     "name": "stdout",
     "output_type": "stream",
     "text": [
      "[{'Time taken': 0.0008258819580078125, 'Memory used': 655360.0}, {'Time taken': 0.00017380714416503906, 'Memory used': 0.0}, {'Time taken': 0.00018930435180664062, 'Memory used': 0.0}]\n"
     ]
    }
   ],
   "source": [
    "print(vas)"
   ]
  },
  {
   "cell_type": "code",
   "execution_count": null,
   "metadata": {},
   "outputs": [],
   "source": []
  },
  {
   "cell_type": "markdown",
   "metadata": {},
   "source": [
    "----"
   ]
  },
  {
   "cell_type": "code",
   "execution_count": 36,
   "metadata": {},
   "outputs": [
    {
     "name": "stdout",
     "output_type": "stream",
     "text": [
      "['Timer unit: 0.001 s', '', 'Total time: 6.57e-06 s', 'File: /tmp/ipykernel_22549/1248220270.py', 'Function: do_stuff at line 26', '', 'Line #      Hits         Time  Per Hit   % Time  Line Contents', '==============================================================', '    26                                           def do_stuff(numbers):', '    27         1          0.0      0.0     28.3      s = sum(numbers)', '    28         1          0.0      0.0      4.4      prod = 1', '    29         6          0.0      0.0     34.2      for n in numbers:', '    30         5          0.0      0.0     27.9          prod *= n', '    31         1          0.0      0.0      5.1      return s, prod', '', '']\n",
      "Timer unit: 0.001 s\n",
      "\n",
      "Total time: 6.57e-06 s\n",
      "File: /tmp/ipykernel_22549/1248220270.py\n",
      "Function: do_stuff at line 26\n",
      "\n",
      "Line #      Hits         Time  Per Hit   % Time  Line Contents\n",
      "==============================================================\n",
      "    26                                           def do_stuff(numbers):\n",
      "    27         1          0.0      0.0     28.3      s = sum(numbers)\n",
      "    28         1          0.0      0.0      4.4      prod = 1\n",
      "    29         6          0.0      0.0     34.2      for n in numbers:\n",
      "    30         5          0.0      0.0     27.9          prod *= n\n",
      "    31         1          0.0      0.0      5.1      return s, prod\n",
      "\n",
      "\n"
     ]
    }
   ],
   "source": [
    "from line_profiler import LineProfiler\n",
    "import io\n",
    "import sys\n",
    "\n",
    "lp = LineProfiler()\n",
    "\n",
    "def profile_print(func_to_profile, *func_args):\n",
    "\n",
    "    lp.add_function(func_to_profile)\n",
    "    lp.runctx('func_to_profile(*func_args)', locals=locals(), globals=globals())\n",
    "\n",
    "    stdout_ = sys.stdout  #Keep track of the previous value.\n",
    "    stream = io.StringIO()\n",
    "    sys.stdout = stream  # alternative output\n",
    "\n",
    "    lp.print_stats(output_unit=0.001)        # values are in milliseconds\n",
    "    sys.stdout = stdout_  # restore the previous stdout.\n",
    "\n",
    "    output = stream.getvalue().split('\\n')\n",
    "    print(output)\n",
    "    for line in output:\n",
    "        print(line)\n",
    "\n",
    "numbers = [1, 2, 3, 4, 5]\n",
    "\n",
    "def do_stuff(numbers):\n",
    "    s = sum(numbers)\n",
    "    prod = 1\n",
    "    for n in numbers:\n",
    "        prod *= n\n",
    "    return s, prod\n",
    "\n",
    "profile_print(do_stuff, numbers)"
   ]
  },
  {
   "cell_type": "code",
   "execution_count": 56,
   "metadata": {},
   "outputs": [
    {
     "name": "stdout",
     "output_type": "stream",
     "text": [
      "Timer unit: 0.001 s\n",
      "\n",
      "Total time: 3.938e-06 s\n",
      "File: /tmp/ipykernel_22549/2113319959.py\n",
      "Function: do_stuff at line 35\n",
      "\n",
      "Line #      Hits         Time  Per Hit   % Time  Line Contents\n",
      "==============================================================\n",
      "    35                                           def do_stuff(numbers):\n",
      "    36         1          0.0      0.0     31.0      s = sum(numbers)\n",
      "    37         1          0.0      0.0      4.2      prod = 1\n",
      "    38         6          0.0      0.0     29.5      for n in numbers:\n",
      "    39         5          0.0      0.0     29.8          prod *= n\n",
      "    40         1          0.0      0.0      5.6      return s, prod\n",
      "\n",
      "\n",
      "{'for n in numbers:': {'hits': '38', 'percent_time': '29.5'},\n",
      " 'prod *= n': {'hits': '39', 'percent_time': '29.8'},\n",
      " 'prod = 1': {'hits': '37', 'percent_time': '4.2'},\n",
      " 'return s, prod': {'hits': '40', 'percent_time': '5.6'},\n",
      " 's = sum(numbers)': {'hits': '36', 'percent_time': '31.0'}}\n"
     ]
    }
   ],
   "source": [
    "from line_profiler import LineProfiler\n",
    "import io\n",
    "import sys\n",
    "\n",
    "def profile_print(func_to_profile, *func_args):\n",
    "    lp = LineProfiler()\n",
    "    lp.add_function(func_to_profile)\n",
    "    lp.enable_by_count()\n",
    "    lp.runctx('func_to_profile(*func_args)', locals=locals(), globals=globals())\n",
    "\n",
    "    stdout_ = sys.stdout  # keep track of the previous value.\n",
    "    stream = io.StringIO()\n",
    "    sys.stdout = stream  # redirect output to the stream\n",
    "    lp.print_stats(output_unit=0.001)  # values are in milliseconds\n",
    "    sys.stdout = stdout_  # restore the previous stdout.\n",
    "\n",
    "    profile_output = stream.getvalue().split('\\n')\n",
    "    for line in profile_output:\n",
    "        print(line)\n",
    "    code_time_dict = {}\n",
    "    for line in profile_output:\n",
    "        cols = line.split()\n",
    "        # Only process complete lines\n",
    "        if len(cols) >= 6:\n",
    "            hit_str = cols[0]\n",
    "            time_perc_str = cols[4]\n",
    "            code_str = \" \".join(cols[5:])\n",
    "            # Exclude any empty/whitespace lines or profiling metadata\n",
    "            if hit_str.isdigit() and time_perc_str.replace('.', '', 1).isdigit():\n",
    "                code_time_dict[code_str] = {\"hits\": hit_str, \"percent_time\": time_perc_str}\n",
    "    return code_time_dict\n",
    "\n",
    "numbers = [1, 2, 3, 4, 5]\n",
    "\n",
    "def do_stuff(numbers):\n",
    "    s = sum(numbers)\n",
    "    prod = 1\n",
    "    for n in numbers:\n",
    "        prod *= n\n",
    "    return s, prod\n",
    "\n",
    "result_dict = profile_print(do_stuff, numbers)\n",
    "from pprint import pprint\n",
    "pprint(result_dict)"
   ]
  },
  {
   "cell_type": "code",
   "execution_count": 1,
   "metadata": {},
   "outputs": [],
   "source": [
    "from profiler_agent import profiler"
   ]
  },
  {
   "cell_type": "code",
   "execution_count": 2,
   "metadata": {},
   "outputs": [],
   "source": [
    "code = \"\"\"def do_stuff(numbers):\n",
    "    s = sum(numbers)\n",
    "    prod = 1\n",
    "    for n in numbers:\n",
    "        prod *= n\n",
    "    return s, prod\"\"\"\n",
    "testcase = \"do_stuff([1, 2, 3, 4, 5])\""
   ]
  },
  {
   "cell_type": "code",
   "execution_count": 3,
   "metadata": {},
   "outputs": [],
   "source": [
    "p_agent = profiler(\n",
    "    code= code,\n",
    "    testcase= testcase\n",
    "                   )"
   ]
  },
  {
   "cell_type": "code",
   "execution_count": 4,
   "metadata": {},
   "outputs": [
    {
     "name": "stdout",
     "output_type": "stream",
     "text": [
      "from line_profiler import LineProfiler\n",
      "import io\n",
      "import sys\n",
      "import json\n",
      "import ast\n",
      "\n",
      "def profile_print(func_to_profile, *func_args):\n",
      "    lp = LineProfiler()\n",
      "    lp.add_function(func_to_profile)\n",
      "    lp.enable_by_count()\n",
      "    lp.runctx('func_to_profile(*func_args)', locals=locals(), globals=globals())\n",
      "\n",
      "    stdout_ = sys.stdout  # keep track of the previous value.\n",
      "    stream = io.StringIO()\n",
      "    sys.stdout = stream  # redirect output to the stream\n",
      "    lp.print_stats(output_unit=0.001)  # values are in milliseconds\n",
      "    sys.stdout = stdout_  # restore the previous stdout.\n",
      "\n",
      "    profile_output = stream.getvalue().split('\\n')\n",
      "    for line in profile_output:\n",
      "        print(line)\n",
      "    code_time_dict = {}\n",
      "    for line in profile_output:\n",
      "        cols = line.split()\n",
      "        # Only process complete lines\n",
      "        if len(cols) >= 6:\n",
      "            hit_str = cols[0]\n",
      "            time_perc_str = cols[4]\n",
      "            code_str = \" \".join(cols[5:])\n",
      "            # Exclude any empty/whitespace lines or profiling metadata\n",
      "            if hit_str.isdigit() and time_perc_str.replace('.', '', 1).isdigit():\n",
      "                code_time_dict[code_str] = {\"hits\": hit_str, \"percent_time\": time_perc_str}\n",
      "    return code_time_dict\n",
      "\n",
      "\n",
      "def save_dict_as_json(data, output_path):\n",
      "    \"\"\"\n",
      "    Save a dictionary as a JSON file.\n",
      "\n",
      "    Parameters:\n",
      "        data (dict): The dictionary to be saved.\n",
      "        output_path (str): The file path to save the JSON data.\n",
      "\n",
      "    Returns:\n",
      "        None\n",
      "    \"\"\"\n",
      "    try:\n",
      "        # Write the dictionary to a JSON file\n",
      "        with open(output_path, 'w') as json_file:\n",
      "            json.dump(data, json_file)\n",
      "        print('JSON data has been saved to', output_path)\n",
      "    except IOError as e:\n",
      "        print(f\"An error occurred while saving the JSON data: {e}\")\n",
      "\n",
      "def do_stuff(numbers):\n",
      "    s = sum(numbers)\n",
      "    prod = 1\n",
      "    for n in numbers:\n",
      "        prod *= n\n",
      "    return s, prod\n",
      "result_dict = profile(do_stuff, [1, 2, 3, 4, 5])\n",
      "save_dict_as_json(result_dict, 'interim_files/profiler_obj.json')\n"
     ]
    }
   ],
   "source": [
    "p_agent.initialize_profiler()"
   ]
  },
  {
   "cell_type": "code",
   "execution_count": null,
   "metadata": {},
   "outputs": [],
   "source": []
  }
 ],
 "metadata": {
  "kernelspec": {
   "display_name": "Python 3",
   "language": "python",
   "name": "python3"
  },
  "language_info": {
   "codemirror_mode": {
    "name": "ipython",
    "version": 3
   },
   "file_extension": ".py",
   "mimetype": "text/x-python",
   "name": "python",
   "nbconvert_exporter": "python",
   "pygments_lexer": "ipython3",
   "version": "3.9.12"
  }
 },
 "nbformat": 4,
 "nbformat_minor": 2
}
