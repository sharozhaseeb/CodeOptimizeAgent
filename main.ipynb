{
 "cells": [
  {
   "cell_type": "code",
   "execution_count": 1,
   "metadata": {},
   "outputs": [],
   "source": [
    "from test_case_agent import testcase_agent\n",
    "from optimization_agent import optimization_suggestor_agent"
   ]
  },
  {
   "cell_type": "markdown",
   "metadata": {},
   "source": [
    "## Input"
   ]
  },
  {
   "cell_type": "code",
   "execution_count": 2,
   "metadata": {},
   "outputs": [],
   "source": [
    "code = \"\"\"def calculate_factorials_up_to_number(n):\n",
    "    if n < 0:\n",
    "        raise ValueError(\"Input must be a non-negative integer.\")\n",
    "\n",
    "    factorials = [1]  # Initialize with the factorial of 0\n",
    "\n",
    "    factorial = 1\n",
    "    for i in range(1, n + 1):\n",
    "        factorial *= i\n",
    "        factorials.append(factorial)\n",
    "\n",
    "    return factorials\"\"\""
   ]
  },
  {
   "cell_type": "markdown",
   "metadata": {},
   "source": [
    "## Initialize Testcase Agent"
   ]
  },
  {
   "cell_type": "code",
   "execution_count": 3,
   "metadata": {},
   "outputs": [],
   "source": [
    "agent = testcase_agent(code = code,\n",
    "                    #    test_case_list =[\"calculate_factorials_up_to_number(100000)\"]\n",
    "                       )"
   ]
  },
  {
   "cell_type": "code",
   "execution_count": 4,
   "metadata": {},
   "outputs": [
    {
     "name": "stdout",
     "output_type": "stream",
     "text": [
      "-----test case generation---\n",
      "Worst case\n",
      "```python\n",
      "calculate_factorials_up_to_number(1000)\n",
      "```\n",
      "\n",
      "Medium case\n",
      "```python\n",
      "calculate_factorials_up_to_number(10)\n",
      "```\n",
      "\n",
      "Best case\n",
      "```python\n",
      "calculate_factorials_up_to_number(0)\n",
      "```\n",
      "\n",
      "\n",
      "-----test case extraction---\n",
      "calculate_factorials_up_to_number(1000)\n",
      "--------\n",
      "calculate_factorials_up_to_number(10)\n",
      "--------\n",
      "calculate_factorials_up_to_number(0)\n",
      "--------\n",
      "None\n",
      "\n",
      "\n",
      "-----test case merger---\n",
      "import time\n",
      "import sys\n",
      "import os\n",
      "import psutil\n",
      "\n",
      "def memory_usage_psutil():\n",
      "    # return the memory usage in MB\n",
      "    process = psutil.Process(os.getpid())\n",
      "    mem_info = process.memory_info()\n",
      "    return mem_info.rss\n",
      "\n",
      "def test_case():\n",
      "    start_time = time.time()\n",
      "    start_memory = memory_usage_psutil()\n",
      "\n",
      "    # Call the function here\n",
      "    calculate_factorials_up_to_number(1000)\n",
      "    \n",
      "    end_time = time.time()\n",
      "    end_memory = memory_usage_psutil()\n",
      "\n",
      "    print(f\"Time taken: {end_time - start_time} seconds\")\n",
      "    print(f\"Memory used: {end_memory - start_memory} B\")\n",
      "\n",
      "def calculate_factorials_up_to_number(n):\n",
      "    if n < 0:\n",
      "        raise ValueError(\"Input must be a non-negative integer.\")\n",
      "\n",
      "    factorials = [1]  # Initialize with the factorial of 0\n",
      "\n",
      "    factorial = 1\n",
      "    for i in range(1, n + 1):\n",
      "        factorial *= i\n",
      "        factorials.append(factorial)\n",
      "\n",
      "    return factorials\n",
      "test_case()\n",
      "import time\n",
      "import sys\n",
      "import os\n",
      "import psutil\n",
      "\n",
      "def memory_usage_psutil():\n",
      "    # return the memory usage in MB\n",
      "    process = psutil.Process(os.getpid())\n",
      "    mem_info = process.memory_info()\n",
      "    return mem_info.rss\n",
      "\n",
      "def test_case():\n",
      "    start_time = time.time()\n",
      "    start_memory = memory_usage_psutil()\n",
      "\n",
      "    # Call the function here\n",
      "    calculate_factorials_up_to_number(10)\n",
      "    \n",
      "    end_time = time.time()\n",
      "    end_memory = memory_usage_psutil()\n",
      "\n",
      "    print(f\"Time taken: {end_time - start_time} seconds\")\n",
      "    print(f\"Memory used: {end_memory - start_memory} B\")\n",
      "\n",
      "def calculate_factorials_up_to_number(n):\n",
      "    if n < 0:\n",
      "        raise ValueError(\"Input must be a non-negative integer.\")\n",
      "\n",
      "    factorials = [1]  # Initialize with the factorial of 0\n",
      "\n",
      "    factorial = 1\n",
      "    for i in range(1, n + 1):\n",
      "        factorial *= i\n",
      "        factorials.append(factorial)\n",
      "\n",
      "    return factorials\n",
      "test_case()\n",
      "import time\n",
      "import sys\n",
      "import os\n",
      "import psutil\n",
      "\n",
      "def memory_usage_psutil():\n",
      "    # return the memory usage in MB\n",
      "    process = psutil.Process(os.getpid())\n",
      "    mem_info = process.memory_info()\n",
      "    return mem_info.rss\n",
      "\n",
      "def test_case():\n",
      "    start_time = time.time()\n",
      "    start_memory = memory_usage_psutil()\n",
      "\n",
      "    # Call the function here\n",
      "    calculate_factorials_up_to_number(0)\n",
      "    \n",
      "    end_time = time.time()\n",
      "    end_memory = memory_usage_psutil()\n",
      "\n",
      "    print(f\"Time taken: {end_time - start_time} seconds\")\n",
      "    print(f\"Memory used: {end_memory - start_memory} B\")\n",
      "\n",
      "def calculate_factorials_up_to_number(n):\n",
      "    if n < 0:\n",
      "        raise ValueError(\"Input must be a non-negative integer.\")\n",
      "\n",
      "    factorials = [1]  # Initialize with the factorial of 0\n",
      "\n",
      "    factorial = 1\n",
      "    for i in range(1, n + 1):\n",
      "        factorial *= i\n",
      "        factorials.append(factorial)\n",
      "\n",
      "    return factorials\n",
      "test_case()\n",
      "\n",
      "\n",
      "-----test case execution---\n",
      "['Time taken: 0.0005857944488525391 seconds\\nMemory used: 524288 B\\n', 'Time taken: 0.00013208389282226562 seconds\\nMemory used: 0 B\\n', 'Time taken: 0.0001239776611328125 seconds\\nMemory used: 0 B\\n']\n",
      "\n",
      "\n",
      "-----test case response extraction---\n",
      "{'Time taken': 0.0005857944488525391, 'Memory used': 524288.0}\n",
      "{'Time taken': 0.00013208389282226562, 'Memory used': 0.0}\n",
      "{'Time taken': 0.0001239776611328125, 'Memory used': 0.0}\n"
     ]
    }
   ],
   "source": [
    "vas = agent.run_flow()"
   ]
  },
  {
   "cell_type": "code",
   "execution_count": 5,
   "metadata": {},
   "outputs": [
    {
     "name": "stdout",
     "output_type": "stream",
     "text": [
      "{'response': [{'Memory used': 524288.0, 'Time taken': 0.0005857944488525391},\n",
      "              {'Memory used': 0.0, 'Time taken': 0.00013208389282226562},\n",
      "              {'Memory used': 0.0, 'Time taken': 0.0001239776611328125}],\n",
      " 'testcase': ['calculate_factorials_up_to_number(1000)',\n",
      "              'calculate_factorials_up_to_number(10)',\n",
      "              'calculate_factorials_up_to_number(0)']}\n"
     ]
    }
   ],
   "source": [
    "from pprint import pprint \n",
    "pprint(vas)"
   ]
  },
  {
   "cell_type": "markdown",
   "metadata": {},
   "source": [
    "------"
   ]
  },
  {
   "cell_type": "markdown",
   "metadata": {},
   "source": [
    "## Optimize Code"
   ]
  },
  {
   "cell_type": "code",
   "execution_count": 8,
   "metadata": {},
   "outputs": [],
   "source": [
    "op_agent = optimization_suggestor_agent(code= code,\n",
    "                                        execution_obj= vas)"
   ]
  },
  {
   "cell_type": "code",
   "execution_count": 9,
   "metadata": {},
   "outputs": [
    {
     "name": "stdout",
     "output_type": "stream",
     "text": [
      "----raw optimizations----\n",
      "The code you provided calculates and returns a list of factorials up to a given number 'n'. Here are some suggestions for optimizing the code:\n",
      "\n",
      "1. Error Handling: The code checks if the input 'n' is a non-negative integer and raises a `ValueError` if it's not. It would be better to use a built-in function, such as `isinstance(n, int)`, to check if 'n' is an integer and `n >= 0` to check if it's non-negative. This would simplify the error handling and remove the need to raise an exception explicitly.\n",
      "\n",
      "2. Use List Comprehension: Instead of initializing an empty list `factorials` and then appending to it in each iteration, you can use list comprehension to generate the list directly. This would eliminate the need for the explicit loop and the `append()` method.\n",
      "\n",
      "3. Calculate the Factorial Incrementally: The code currently multiplies the factorial with 'i' in each iteration. Instead, you can calculate the next factorial by multiplying the previous factorial with 'i'. This eliminates the need for storing and updating the 'factorial' variable separately.\n",
      "\n",
      "4. Unnecessary '0' Factorial Initialization: The code initializes the 'factorials' list with the factorial of 0 (which is 1). This can be removed since the loop starts from 1 and already calculates the factorial of 1.\n",
      "\n",
      "5. Unused Variable 'factorial': The variable 'factorial' is declared but not used after the loop. If it's not needed for any other purpose, it can be removed.\n",
      "\n",
      "Here's an updated version of the code incorporating these optimizations:\n",
      "\n",
      "```python\n",
      "def calculate_factorials_up_to_number(n):\n",
      "    if not isinstance(n, int) or n < 0:\n",
      "        raise ValueError(\"Input must be a non-negative integer.\")\n",
      "\n",
      "    factorials = [1] + [1] * n\n",
      "\n",
      "    for i in range(2, n + 1):\n",
      "        factorials[i] = factorials[i - 1] * i\n",
      "\n",
      "    return factorials\n",
      "```\n",
      "\n",
      "With these optimizations, the code should be more efficient both in terms of time and memory usage.\n",
      "\n",
      "\n",
      "------Optimizer----------\n",
      "```python\n",
      "def calculate_factorials_up_to_number(n):\n",
      "    if not isinstance(n, int) or n < 0:\n",
      "        raise ValueError(\"Input must be a non-negative integer.\")\n",
      "\n",
      "    factorials = [1] * (n + 1)\n",
      "\n",
      "    for i in range(2, n + 1):\n",
      "        factorials[i] = factorials[i - 1] * i\n",
      "\n",
      "    return factorials\n",
      "```\n",
      "\n",
      "In the updated code, I removed the unnecessary `factorial` variable and initialized the `factorials` list with `[1] * (n + 1)` to avoid appending to the list in each iteration. This should further optimize the code in terms of memory usage.\n",
      "\n",
      "\n",
      "------Code Extraction-----\n",
      "def calculate_factorials_up_to_number(n):\n",
      "    if not isinstance(n, int) or n < 0:\n",
      "        raise ValueError(\"Input must be a non-negative integer.\")\n",
      "\n",
      "    factorials = [1] * (n + 1)\n",
      "\n",
      "    for i in range(2, n + 1):\n",
      "        factorials[i] = factorials[i - 1] * i\n",
      "\n",
      "    return factorials\n",
      "--------\n",
      "def calculate_factorials_up_to_number(n):\n",
      "    if not isinstance(n, int) or n < 0:\n",
      "        raise ValueError(\"Input must be a non-negative integer.\")\n",
      "\n",
      "    factorials = [1] * (n + 1)\n",
      "\n",
      "    for i in range(2, n + 1):\n",
      "        factorials[i] = factorials[i - 1] * i\n",
      "\n",
      "    return factorials\n"
     ]
    }
   ],
   "source": [
    "vas = op_agent.run_flow()"
   ]
  },
  {
   "cell_type": "code",
   "execution_count": 10,
   "metadata": {},
   "outputs": [
    {
     "name": "stdout",
     "output_type": "stream",
     "text": [
      "def calculate_factorials_up_to_number(n):\n",
      "    if not isinstance(n, int) or n < 0:\n",
      "        raise ValueError(\"Input must be a non-negative integer.\")\n",
      "\n",
      "    factorials = [1] * (n + 1)\n",
      "\n",
      "    for i in range(2, n + 1):\n",
      "        factorials[i] = factorials[i - 1] * i\n",
      "\n",
      "    return factorials\n"
     ]
    }
   ],
   "source": [
    "print(vas)"
   ]
  },
  {
   "cell_type": "markdown",
   "metadata": {},
   "source": [
    "------------------"
   ]
  },
  {
   "cell_type": "code",
   "execution_count": 23,
   "metadata": {},
   "outputs": [],
   "source": [
    "extracted_blocks = \"\"\"def calculate_factorials_up_to_number(n):\n",
    "    if not isinstance(n, int) or n < 0:\n",
    "        raise ValueError(\"Input must be a non-negative integer.\")\n",
    "\n",
    "    factorials = {}\n",
    "\n",
    "    def factorial(k):\n",
    "        if k in factorials:\n",
    "            return factorials[k]\n",
    "        elif k == 0:\n",
    "            return 1\n",
    "        else:\n",
    "            result = k * factorial(k - 1)\n",
    "            factorials[k] = result\n",
    "            return result\n",
    "\n",
    "    return [factorial(i) for i in range(n + 1)]\"\"\""
   ]
  },
  {
   "cell_type": "markdown",
   "metadata": {},
   "source": [
    "## Optimized Code Testcases"
   ]
  },
  {
   "cell_type": "code",
   "execution_count": 24,
   "metadata": {},
   "outputs": [],
   "source": [
    "op_code_test = testcase_agent(\n",
    "    code = extracted_blocks)"
   ]
  },
  {
   "cell_type": "code",
   "execution_count": 25,
   "metadata": {},
   "outputs": [
    {
     "name": "stdout",
     "output_type": "stream",
     "text": [
      "calculate_factorials_up_to_number(1000)\n",
      "--------\n",
      "calculate_factorials_up_to_number(10)\n",
      "--------\n",
      "calculate_factorials_up_to_number(0)\n",
      "--------\n"
     ]
    }
   ],
   "source": [
    "op_code_test.gen_test_case()\n",
    "op_code_test.extract_test_cases()\n",
    "op_code_test.join_test_case()\n",
    "op_code_test.run_test_case()\n",
    "vas = op_code_test.extract_info_tg()"
   ]
  },
  {
   "cell_type": "code",
   "execution_count": 26,
   "metadata": {},
   "outputs": [
    {
     "name": "stdout",
     "output_type": "stream",
     "text": [
      "[{'Time taken': 0.0008258819580078125, 'Memory used': 655360.0}, {'Time taken': 0.00017380714416503906, 'Memory used': 0.0}, {'Time taken': 0.00018930435180664062, 'Memory used': 0.0}]\n"
     ]
    }
   ],
   "source": [
    "print(vas)"
   ]
  },
  {
   "cell_type": "code",
   "execution_count": null,
   "metadata": {},
   "outputs": [],
   "source": []
  },
  {
   "cell_type": "markdown",
   "metadata": {},
   "source": [
    "----"
   ]
  },
  {
   "cell_type": "markdown",
   "metadata": {},
   "source": [
    "## Profiler"
   ]
  },
  {
   "cell_type": "code",
   "execution_count": 1,
   "metadata": {},
   "outputs": [],
   "source": [
    "from profiler_agent import profiler"
   ]
  },
  {
   "cell_type": "code",
   "execution_count": 2,
   "metadata": {},
   "outputs": [],
   "source": [
    "code = \"\"\"def do_stuff(numbers):\n",
    "    s = sum(numbers)\n",
    "    prod = 1\n",
    "    for n in numbers:\n",
    "        prod *= n\n",
    "    return s, prod\"\"\"\n",
    "testcase = \"do_stuff([1, 2, 3, 4, 50000000000000000000000])\""
   ]
  },
  {
   "cell_type": "code",
   "execution_count": 3,
   "metadata": {},
   "outputs": [],
   "source": [
    "p_agent = profiler(\n",
    "    code= code,\n",
    "    testcase= testcase\n",
    "                   )"
   ]
  },
  {
   "cell_type": "code",
   "execution_count": 4,
   "metadata": {},
   "outputs": [
    {
     "name": "stdout",
     "output_type": "stream",
     "text": [
      "command ran\n",
      "dict_keys(['s = sum(numbers)', 'prod = 1', 'for n in numbers:', 'prod *= n', 'return s, prod'])\n",
      "def do_stuff(numbers):\n",
      "    s = sum(numbers) #percent_time: 32.2%\n",
      "    prod = 1 #percent_time: 5.0%\n",
      "    for n in numbers: #percent_time: 28.8%\n",
      "        prod *= n #percent_time: 28.8%\n",
      "    return s, prod #percent_time: 5.2%\n"
     ]
    }
   ],
   "source": [
    "vas = p_agent.run_flow()"
   ]
  },
  {
   "cell_type": "code",
   "execution_count": 5,
   "metadata": {},
   "outputs": [
    {
     "name": "stdout",
     "output_type": "stream",
     "text": [
      "def do_stuff(numbers):\n",
      "    s = sum(numbers) #percent_time: 32.2%\n",
      "    prod = 1 #percent_time: 5.0%\n",
      "    for n in numbers: #percent_time: 28.8%\n",
      "        prod *= n #percent_time: 28.8%\n",
      "    return s, prod #percent_time: 5.2%\n"
     ]
    }
   ],
   "source": [
    "print(vas)"
   ]
  },
  {
   "cell_type": "markdown",
   "metadata": {},
   "source": [
    "---------"
   ]
  },
  {
   "cell_type": "code",
   "execution_count": 1,
   "metadata": {},
   "outputs": [],
   "source": [
    "from overseer import flow_master"
   ]
  },
  {
   "cell_type": "code",
   "execution_count": 2,
   "metadata": {},
   "outputs": [],
   "source": [
    "code = \"\"\"def calculate_factorials_up_to_number(n):\n",
    "    if n < 0:\n",
    "        raise ValueError(\"Input must be a non-negative integer.\")\n",
    "\n",
    "    factorials = [1]  # Initialize with the factorial of 0\n",
    "\n",
    "    factorial = 1\n",
    "    for i in range(1, n + 1):\n",
    "        factorial *= i\n",
    "        factorials.append(factorial)\n",
    "\n",
    "    return factorials\"\"\""
   ]
  },
  {
   "cell_type": "code",
   "execution_count": 3,
   "metadata": {},
   "outputs": [],
   "source": [
    "flow = flow_master(code= code)"
   ]
  },
  {
   "cell_type": "code",
   "execution_count": 5,
   "metadata": {},
   "outputs": [
    {
     "name": "stdout",
     "output_type": "stream",
     "text": [
      "-----test case generation---\n",
      "Worst case\n",
      "```python\n",
      "calculate_factorials_up_to_number(1000)\n",
      "```\n",
      "\n",
      "Medium case\n",
      "```python\n",
      "calculate_factorials_up_to_number(10)\n",
      "```\n",
      "\n",
      "Best case\n",
      "```python\n",
      "calculate_factorials_up_to_number(0)\n",
      "```\n",
      "\n",
      "\n",
      "-----test case extraction---\n",
      "calculate_factorials_up_to_number(1000)\n",
      "--------\n",
      "calculate_factorials_up_to_number(10)\n",
      "--------\n",
      "calculate_factorials_up_to_number(0)\n",
      "--------\n",
      "None\n",
      "\n",
      "\n",
      "-----test case merger---\n",
      "import time\n",
      "import sys\n",
      "import os\n",
      "import psutil\n",
      "\n",
      "def memory_usage_psutil():\n",
      "    # return the memory usage in MB\n",
      "    process = psutil.Process(os.getpid())\n",
      "    mem_info = process.memory_info()\n",
      "    return mem_info.rss\n",
      "\n",
      "def test_case():\n",
      "    start_time = time.time()\n",
      "    start_memory = memory_usage_psutil()\n",
      "\n",
      "    # Call the function here\n",
      "    calculate_factorials_up_to_number(1000)\n",
      "    \n",
      "    end_time = time.time()\n",
      "    end_memory = memory_usage_psutil()\n",
      "\n",
      "    print(f\"Time taken: {end_time - start_time} seconds\")\n",
      "    print(f\"Memory used: {end_memory - start_memory} B\")\n",
      "\n",
      "def calculate_factorials_up_to_number(n):\n",
      "    if n < 0:\n",
      "        raise ValueError(\"Input must be a non-negative integer.\")\n",
      "\n",
      "    factorials = [1]  # Initialize with the factorial of 0\n",
      "\n",
      "    factorial = 1\n",
      "    for i in range(1, n + 1):\n",
      "        factorial *= i\n",
      "        factorials.append(factorial)\n",
      "\n",
      "    return factorials\n",
      "test_case()\n",
      "import time\n",
      "import sys\n",
      "import os\n",
      "import psutil\n",
      "\n",
      "def memory_usage_psutil():\n",
      "    # return the memory usage in MB\n",
      "    process = psutil.Process(os.getpid())\n",
      "    mem_info = process.memory_info()\n",
      "    return mem_info.rss\n",
      "\n",
      "def test_case():\n",
      "    start_time = time.time()\n",
      "    start_memory = memory_usage_psutil()\n",
      "\n",
      "    # Call the function here\n",
      "    calculate_factorials_up_to_number(10)\n",
      "    \n",
      "    end_time = time.time()\n",
      "    end_memory = memory_usage_psutil()\n",
      "\n",
      "    print(f\"Time taken: {end_time - start_time} seconds\")\n",
      "    print(f\"Memory used: {end_memory - start_memory} B\")\n",
      "\n",
      "def calculate_factorials_up_to_number(n):\n",
      "    if n < 0:\n",
      "        raise ValueError(\"Input must be a non-negative integer.\")\n",
      "\n",
      "    factorials = [1]  # Initialize with the factorial of 0\n",
      "\n",
      "    factorial = 1\n",
      "    for i in range(1, n + 1):\n",
      "        factorial *= i\n",
      "        factorials.append(factorial)\n",
      "\n",
      "    return factorials\n",
      "test_case()\n",
      "import time\n",
      "import sys\n",
      "import os\n",
      "import psutil\n",
      "\n",
      "def memory_usage_psutil():\n",
      "    # return the memory usage in MB\n",
      "    process = psutil.Process(os.getpid())\n",
      "    mem_info = process.memory_info()\n",
      "    return mem_info.rss\n",
      "\n",
      "def test_case():\n",
      "    start_time = time.time()\n",
      "    start_memory = memory_usage_psutil()\n",
      "\n",
      "    # Call the function here\n",
      "    calculate_factorials_up_to_number(0)\n",
      "    \n",
      "    end_time = time.time()\n",
      "    end_memory = memory_usage_psutil()\n",
      "\n",
      "    print(f\"Time taken: {end_time - start_time} seconds\")\n",
      "    print(f\"Memory used: {end_memory - start_memory} B\")\n",
      "\n",
      "def calculate_factorials_up_to_number(n):\n",
      "    if n < 0:\n",
      "        raise ValueError(\"Input must be a non-negative integer.\")\n",
      "\n",
      "    factorials = [1]  # Initialize with the factorial of 0\n",
      "\n",
      "    factorial = 1\n",
      "    for i in range(1, n + 1):\n",
      "        factorial *= i\n",
      "        factorials.append(factorial)\n",
      "\n",
      "    return factorials\n",
      "test_case()\n",
      "\n",
      "\n",
      "-----test case execution---\n",
      "['Time taken: 0.0005855560302734375 seconds\\nMemory used: 524288 B\\n', 'Time taken: 0.00012826919555664062 seconds\\nMemory used: 0 B\\n', 'Time taken: 0.00015306472778320312 seconds\\nMemory used: 0 B\\n']\n",
      "\n",
      "\n",
      "-----test case response extraction---\n",
      "{'Time taken': 0.0005855560302734375, 'Memory used': 524288.0}\n",
      "{'Time taken': 0.00012826919555664062, 'Memory used': 0.0}\n",
      "{'Time taken': 0.00015306472778320312, 'Memory used': 0.0}\n",
      "------------------------------------------\n",
      "this is the initial testcase information\n",
      "\n",
      "{'response': [{'Memory used': 524288.0, 'Time taken': 0.0005855560302734375},\n",
      "              {'Memory used': 0.0, 'Time taken': 0.00012826919555664062},\n",
      "              {'Memory used': 0.0, 'Time taken': 0.00015306472778320312}],\n",
      " 'testcase': ['calculate_factorials_up_to_number(1000)',\n",
      "              'calculate_factorials_up_to_number(10)',\n",
      "              'calculate_factorials_up_to_number(0)']}\n",
      "\n",
      "\n",
      "------------------------------------------\n",
      "command ran\n",
      "dict_keys(['if n < 0:', 'factorials = [1] # Initialize with the factorial of 0', 'factorial = 1', 'for i in range(1, n + 1):', 'return factorials'])\n",
      "def calculate_factorials_up_to_number(n):\n",
      "    if n < 0: #percent_time: 29.3%\n",
      "        raise ValueError(\"Input must be a non-negative integer.\")\n",
      "\n",
      "    factorials = [1]  # Initialize with the factorial of 0\n",
      "\n",
      "    factorial = 1 #percent_time: 5.6%\n",
      "    for i in range(1, n + 1): #percent_time: 44.3%\n",
      "        factorial *= i\n",
      "        factorials.append(factorial)\n",
      "\n",
      "    return factorials #percent_time: 7.7%\n",
      "------------------------------------------\n",
      "this is the initial profiled code\n",
      "\n",
      "<class 'str'>\n",
      "\n",
      "\n",
      "------------------------------------------\n",
      "----raw optimizations----\n",
      "1. Avoid Duplicate Calculation of Factorial: Currently, the code performs multiplication in each iteration to calculate the factorial. Instead, we can utilize the previously calculated factorial and multiply it by the current number. This way, we avoid repetitive multiplication operations and improve performance.\n",
      "\n",
      "2. Use List Comprehension: Instead of using a for loop to calculate factorials and append them to the `factorials` list, we can use list comprehension to perform the calculation in a more concise and efficient way.\n",
      "\n",
      "3. Unused Variable `factorial`: The variable `factorial` is initialized but not used. We can remove this variable to improve the code's readability.\n",
      "\n",
      "4. Exception Handling: The code raises a ValueError if the input is a negative integer. Instead of raising an exception, we can handle this case by returning an empty list or a predefined result. Additionally, we can add type checking to ensure that the input is an integer.\n",
      "\n",
      "Updated code with the mentioned optimizations:\n",
      "\n",
      "```python\n",
      "def calculate_factorials_up_to_number(n):\n",
      "    if not isinstance(n, int) or n < 0:\n",
      "        return []  # or [], depending on the desired behavior\n",
      "\n",
      "    return [1] + [lambda f=f, i=i: f*i for i, f in enumerate(calculate_factorials_up_to_number(n-1), start=1)]\n",
      "```\n",
      "\n",
      "Note: While the optimizations involving list comprehensions and lambda expressions can be applied, they may not necessarily result in a significant performance improvement. The code's overall performance is primarily dependent on the input value of `n`.\n",
      "\n",
      "\n",
      "------Optimizer----------\n",
      "```python\n",
      "def calculate_factorials_up_to_number(n):\n",
      "    if not isinstance(n, int) or n < 0:\n",
      "        return []\n",
      "\n",
      "    factorials = [1]\n",
      "\n",
      "    factorial = 1\n",
      "    for i in range(1, n + 1):\n",
      "        factorial *= i\n",
      "        factorials.append(factorial)\n",
      "\n",
      "    return factorials\n",
      "```\n",
      "\n",
      "The original code is already efficient and optimized. The suggested optimizations involving list comprehensions and lambda expressions may not provide a significant performance improvement in this case. The code handles negative input values and returns an empty list as desired.\n",
      "\n",
      "\n",
      "------Code Extraction-----\n",
      "def calculate_factorials_up_to_number(n):\n",
      "    if not isinstance(n, int) or n < 0:\n",
      "        return []\n",
      "\n",
      "    factorials = [1]\n",
      "\n",
      "    factorial = 1\n",
      "    for i in range(1, n + 1):\n",
      "        factorial *= i\n",
      "        factorials.append(factorial)\n",
      "\n",
      "    return factorials\n",
      "--------\n",
      "def calculate_factorials_up_to_number(n):\n",
      "    if not isinstance(n, int) or n < 0:\n",
      "        return []\n",
      "\n",
      "    factorials = [1]\n",
      "\n",
      "    factorial = 1\n",
      "    for i in range(1, n + 1):\n",
      "        factorial *= i\n",
      "        factorials.append(factorial)\n",
      "\n",
      "    return factorials\n",
      "------------------------------------------\n",
      "this is the optimized code\n",
      "\n",
      "('def calculate_factorials_up_to_number(n):\\n'\n",
      " '    if not isinstance(n, int) or n < 0:\\n'\n",
      " '        return []\\n'\n",
      " '\\n'\n",
      " '    factorials = [1]\\n'\n",
      " '\\n'\n",
      " '    factorial = 1\\n'\n",
      " '    for i in range(1, n + 1):\\n'\n",
      " '        factorial *= i\\n'\n",
      " '        factorials.append(factorial)\\n'\n",
      " '\\n'\n",
      " '    return factorials')\n",
      "\n",
      "\n",
      "------------------------------------------\n",
      "['calculate_factorials_up_to_number(1000)', 'calculate_factorials_up_to_number(10)', 'calculate_factorials_up_to_number(0)']\n",
      "------------------------------------------\n",
      "this is the optimized codes testcase response\n",
      "\n",
      "[{'Memory used': 524288.0, 'Time taken': 0.000591278076171875},\n",
      " {'Memory used': 0.0, 'Time taken': 0.00013256072998046875},\n",
      " {'Memory used': 0.0, 'Time taken': 0.00014138221740722656}]\n",
      "[{'Memory used': 524288.0, 'Time taken': 0.0005855560302734375},\n",
      " {'Memory used': 0.0, 'Time taken': 0.00012826919555664062},\n",
      " {'Memory used': 0.0, 'Time taken': 0.00015306472778320312}]\n",
      "\n",
      "\n",
      "------------------------------------------\n"
     ]
    }
   ],
   "source": [
    "flow.start()"
   ]
  },
  {
   "cell_type": "code",
   "execution_count": 1,
   "metadata": {},
   "outputs": [],
   "source": [
    "code = \"\"\"import math\n",
    "\n",
    "def calculate_factorials_up_to_number(n):\n",
    "    assert n >= 0, \"Input must be a non-negative integer.\"\n",
    "\n",
    "    factorials = [math.factorial(i) for i in range(n + 1)]\n",
    "\n",
    "    return factorials\"\"\"\n",
    "\n",
    "testcase = [\"calculate_factorials_up_to_number(1000)\", \"calculate_factorials_up_to_number(100)\", \"calculate_factorials_up_to_number(10)\"]"
   ]
  },
  {
   "cell_type": "code",
   "execution_count": 2,
   "metadata": {},
   "outputs": [],
   "source": [
    "from executor_agent import code_executor"
   ]
  },
  {
   "cell_type": "code",
   "execution_count": 3,
   "metadata": {},
   "outputs": [],
   "source": [
    "ce = code_executor(\n",
    "    code = code,\n",
    "    testcase = testcase\n",
    ")"
   ]
  },
  {
   "cell_type": "code",
   "execution_count": 4,
   "metadata": {},
   "outputs": [
    {
     "data": {
      "text/plain": [
       "[{'Time taken': 0.012521505355834961, 'Memory used': 655360.0},\n",
       " {'Time taken': 0.0001900196075439453, 'Memory used': 0.0},\n",
       " {'Time taken': 0.00023603439331054688, 'Memory used': 0.0}]"
      ]
     },
     "execution_count": 4,
     "metadata": {},
     "output_type": "execute_result"
    }
   ],
   "source": [
    "ce.run()"
   ]
  },
  {
   "cell_type": "markdown",
   "metadata": {},
   "source": [
    "---"
   ]
  },
  {
   "cell_type": "code",
   "execution_count": 1,
   "metadata": {},
   "outputs": [],
   "source": [
    "text = \"\"\"The code provided reads a CSV file, adds each row into a list, and then performs some calculations on the data. However, there are a few inefficiencies that can be improved:\n",
    "\n",
    "1. Use of intermediary \"data\" list: This list is not necessary and only consumes memory. You can perform the calculations as you read each row from the CSV file.\n",
    "\n",
    "2. Nested loops: The nested loops (iteration over the data for calculations) increase the computational complexity of the program. This is unnecessary as you can perform the operations within a single loop.\n",
    "\n",
    "3. Redundant file closure: When using the `with` keyword to open a file, Python automatically closes the file once it is out of scope. So the file closure at the end of the script is redundant.\n",
    "\n",
    "4. Exception Handling: Instead of catching ValueError for every value, it could be more efficient to use a comprehension that filters out non-numerics before converting them to floats.\n",
    "\n",
    "Here is a more optimized version of the function:\n",
    "\n",
    "```python\n",
    "import csv\n",
    "\n",
    "def optimized_csv_processing(filename):\n",
    "    # Initialize results\n",
    "    results = []\n",
    "\n",
    "    # Open the CSV file\n",
    "    with open(filename, 'r') as file:\n",
    "        reader = csv.reader(file)\n",
    "        \n",
    "        # Read data and perform calculations\n",
    "        for row in reader:\n",
    "            if len(row) >= 3:\n",
    "                result = sum(float(value) for value in row if value.replace('.', '', 1).isdigit())\n",
    "                results.append(result)\n",
    "\n",
    "    # Return the results\n",
    "    return results\n",
    "```\"\"\""
   ]
  },
  {
   "cell_type": "code",
   "execution_count": 1,
   "metadata": {},
   "outputs": [],
   "source": [
    "exec_obj = {'response': [{'Memory used': 524288.0, 'Time taken': 0.0005857944488525391},\n",
    "              {'Memory used': 0.0, 'Time taken': 0.00013208389282226562},\n",
    "              {'Memory used': 0.0, 'Time taken': 0.0001239776611328125}],\n",
    " 'testcase': ['calculate_factorials_up_to_number(1000)',\n",
    "              'calculate_factorials_up_to_number(10)',\n",
    "              'calculate_factorials_up_to_number(0)']}\n",
    " \n",
    "code = \"\"\"def calculate_factorials_up_to_number(n):\n",
    "    if n < 0: #percent_time: 29.3%\n",
    "        raise ValueError(\"Input must be a non-negative integer.\")\n",
    "\n",
    "    factorials = [1]  # Initialize with the factorial of 0\n",
    "\n",
    "    factorial = 1 #percent_time: 5.6%\n",
    "    for i in range(1, n + 1): #percent_time: 44.3%\n",
    "        factorial *= i\n",
    "        factorials.append(factorial)\n",
    "\n",
    "    return factorials #percent_time: 7.7%\"\"\""
   ]
  },
  {
   "cell_type": "code",
   "execution_count": 2,
   "metadata": {},
   "outputs": [],
   "source": [
    "from optimization_agent import optimization_suggestor_agent"
   ]
  },
  {
   "cell_type": "code",
   "execution_count": 3,
   "metadata": {},
   "outputs": [],
   "source": [
    "op = optimization_suggestor_agent(code= code,\n",
    "                                execution_obj = exec_obj)"
   ]
  },
  {
   "cell_type": "code",
   "execution_count": 4,
   "metadata": {},
   "outputs": [],
   "source": [
    "vas = op.run_flow_phase_1()"
   ]
  },
  {
   "cell_type": "code",
   "execution_count": 5,
   "metadata": {},
   "outputs": [
    {
     "name": "stdout",
     "output_type": "stream",
     "text": [
      "{'exec_info': [{'Memory used': 0.0, 'Time taken': 0.00017404556274414062},\n",
      "               {'Memory used': 0.0, 'Time taken': 0.00012826919555664062},\n",
      "               {'Memory used': 0.0, 'Time taken': 0.0001857280731201172}],\n",
      " 'optimized_code': '\\n'\n",
      "                   'def calculate_factorials_up_to_number(n):\\n'\n",
      "                   '    factorial = 1\\n'\n",
      "                   '    yield factorial  # The factorial of 0 is 1\\n'\n",
      "                   '    for i in range(1, n + 1):\\n'\n",
      "                   '        factorial *= i\\n'\n",
      "                   '        yield factorial\\n',\n",
      " 'suggestions': 'The provided code calculates the list of factorials of all '\n",
      "                'numbers up to a given input number. This is done in a single '\n",
      "                'loop, which is fairly efficient time complexity-wise. '\n",
      "                'However, there are a few places where the function could be '\n",
      "                'further optimized:\\n'\n",
      "                '\\n'\n",
      "                '1) Input validation: The error checking for negative input '\n",
      "                'can be made faster by simplifying the conditional statement '\n",
      "                'and removing the need for a function call. \\n'\n",
      "                '\\n'\n",
      "                '2) Factorial calculation: By avoiding the multiplication '\n",
      "                'operation for each number in the loop and leveraging the '\n",
      "                'unchanged intermediate values, the algorithm can be '\n",
      "                'optimized. \\n'\n",
      "                '\\n'\n",
      "                '3) Memory usage: By using a generator instead of a list, we '\n",
      "                'can significantly reduce the memory usage of this function. '\n",
      "                'Generators in Python are a way of creating iterable objects '\n",
      "                'without I requiring to store all of the values in memory '\n",
      "                'simultaneously. \\n'\n",
      "                '\\n'\n",
      "                'Here is an example of how to implement these changes:\\n'\n",
      "                '\\n'}\n"
     ]
    }
   ],
   "source": [
    "from pprint import pprint\n",
    "pprint(vas)"
   ]
  },
  {
   "cell_type": "code",
   "execution_count": 6,
   "metadata": {},
   "outputs": [
    {
     "name": "stdout",
     "output_type": "stream",
     "text": [
      "command ran\n",
      "dict_keys([])\n",
      "\n",
      "def calculate_factorials_up_to_number(n):\n",
      "    factorial = 1\n",
      "    yield factorial  # The factorial of 0 is 1\n",
      "    for i in range(1, n + 1):\n",
      "        factorial *= i\n",
      "        yield factorial\n",
      "\n"
     ]
    }
   ],
   "source": [
    "vas = op.run_flow_phase_2()"
   ]
  },
  {
   "cell_type": "code",
   "execution_count": 7,
   "metadata": {},
   "outputs": [
    {
     "name": "stdout",
     "output_type": "stream",
     "text": [
      "The optimized function you've used is effectively yielding factorials one by one, which drastically reduces memory usage to almost 0 in all cases. The operation is carried out in constant time complexity O(n). So in terms of performance, this is already excellent.\n",
      "\n",
      "However, there are still potential improvements, mostly applying to readability, error-handling and input constraints.\n",
      "\n",
      "1) Exception Handling: Negative numbers and non-integer inputs are not valid and may cause the function to behave unexpectedly. Adding exception or error handling to deal with this could be beneficial.\n",
      "\n",
      "2) Function Docstrings: Adding docstrings to the function to explain what it does, its parameters, its return type and any exceptions it can raise. This makes it easier for other developers to understand and use the function.\n",
      "\n",
      "Here is the code after applying these changes:\n",
      "\n",
      "```python\n",
      "def calculate_factorials_up_to_number(n):\n",
      "    \"\"\"\n",
      "    Function to calculate the factorial of numbers up to n and yield each factorial.\n",
      "    \n",
      "    Parameters:\n",
      "    n (int): The number upto which factorial has to be calculated. Must be a non-negative integer.\n",
      "\n",
      "    Yields:\n",
      "    int: factorial of each number from 0 to n\n",
      "\n",
      "    Raises:\n",
      "    ValueError: If n is a negative number or not an integer. \n",
      "    \"\"\"\n",
      "    \n",
      "    if not isinstance(n, int) or n < 0:\n",
      "        raise ValueError('Input must be a non-negative integer')\n",
      "    \n",
      "    factorial = 1\n",
      "    yield factorial  # The factorial of 0 is 1\n",
      "    \n",
      "    for i in range(1, n+1):\n",
      "        factorial *= i\n",
      "        yield factorial\n",
      "```\n",
      "This new code incorporates error handling and adds docstrings for clear understanding of the function's functionality. The logic and performance remain unaltered. However, remember that these improvements are related to code quality and doesn't necessarily enhance the actual execution time and memory usage.\n"
     ]
    }
   ],
   "source": [
    "print(vas)"
   ]
  },
  {
   "cell_type": "code",
   "execution_count": null,
   "metadata": {},
   "outputs": [],
   "source": []
  }
 ],
 "metadata": {
  "kernelspec": {
   "display_name": "Python 3",
   "language": "python",
   "name": "python3"
  },
  "language_info": {
   "codemirror_mode": {
    "name": "ipython",
    "version": 3
   },
   "file_extension": ".py",
   "mimetype": "text/x-python",
   "name": "python",
   "nbconvert_exporter": "python",
   "pygments_lexer": "ipython3",
   "version": "3.9.12"
  }
 },
 "nbformat": 4,
 "nbformat_minor": 2
}
